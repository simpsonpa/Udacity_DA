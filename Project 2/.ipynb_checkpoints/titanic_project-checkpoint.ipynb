{
 "cells": [
  {
   "cell_type": "markdown",
   "metadata": {},
   "source": [
    "# Import data and packages to complete analysis of dataset detailing the factors important in the survivorship of passengers aboard the Titanic"
   ]
  },
  {
   "cell_type": "code",
   "execution_count": 1,
   "metadata": {
    "collapsed": false
   },
   "outputs": [],
   "source": [
    "# Load packages, setup notebook to display plots\n",
    "import matplotlib.pyplot as plt\n",
    "import matplotlib.mlab as mlab\n",
    "import numpy as np\n",
    "import scipy.stats as stats\n",
    "import pandas as pd\n",
    "import seaborn as sns\n",
    "import math\n",
    "import statsmodels.api as sm\n",
    "from statsmodels.graphics.api import abline_plot\n",
    "from statsmodels import graphics\n",
    "from statsmodels.formula.api import ols, glm, logit\n",
    "import statsmodels.formula.api as smf\n",
    "%matplotlib inline  \n",
    "\n",
    "# Read in data\n",
    "csv = 'titanic_data.csv'\n",
    "titanic_df = pd.read_csv(csv)\n",
    "\n",
    "# Print first few lines of df\n",
    "if False:\n",
    "    print titanic_df.head()\n",
    "    print len(titanic_df)"
   ]
  },
  {
   "cell_type": "markdown",
   "metadata": {},
   "source": [
    "## Clean up data"
   ]
  },
  {
   "cell_type": "code",
   "execution_count": 2,
   "metadata": {
    "collapsed": false
   },
   "outputs": [
    {
     "name": "stdout",
     "output_type": "stream",
     "text": [
      "\n",
      " The number of values missing from the  Age  column is:  177\n",
      "\n",
      " The number of values missing from the  Cabin  column is:  687\n",
      "\n",
      " The number of values missing from the  Embarked  column is:  2\n"
     ]
    }
   ],
   "source": [
    "# Iterate through columns to count the number of missing values in each column, then print out the number of missing values.\n",
    "col_names = list(titanic_df.columns.values)\n",
    "for column in col_names:\n",
    "    val = -titanic_df[column].count() + titanic_df['PassengerId'].count()\n",
    "    if val > 0:\n",
    "        print \"\\n The number of values missing from the \",column,\" column is: \",val"
   ]
  },
  {
   "cell_type": "markdown",
   "metadata": {},
   "source": [
    "Any analysis involving passenger age or point of embarkation will require some cleaning - my gut tells me that the best way to do this is to remove the values (age is missing 177 values, embarked is missing 2 values). I am not interested in the cabin numbers, so I will leave these alone. For point of embarkation it could be possible to examine surnames and attempt to infer a point of embarkation, but this would require making some assumptions about the data set that probably shouldn't be made. So from this point onwards, I will create data sets that have: all rows with missing ages removed; and another with all rows missing a point of embarkation removed."
   ]
  },
  {
   "cell_type": "markdown",
   "metadata": {},
   "source": [
    "### Make some new, clean data frames"
   ]
  },
  {
   "cell_type": "code",
   "execution_count": 3,
   "metadata": {
    "collapsed": false
   },
   "outputs": [],
   "source": [
    "# Start by making a data frame which removes all of the rows where age is NaN\n",
    "clean_age_df = titanic_df.dropna(subset=[\"Age\"]).copy()\n",
    "\n",
    "# Start by making a data frame which removes all of the rows where embarked is NaN\n",
    "clean_embark_df = titanic_df.dropna(subset = [\"Embarked\"]).copy()\n",
    "\n",
    "# Start by making a data frame which removes all of the rows where age and embarked is NaN\n",
    "clean_age_embark_df = titanic_df.dropna().copy()"
   ]
  },
  {
   "cell_type": "markdown",
   "metadata": {},
   "source": [
    "# Question 1: How does survivorship vary with age?"
   ]
  },
  {
   "cell_type": "markdown",
   "metadata": {},
   "source": [
    "## Perform a logistic regression on survivorship as a function of age"
   ]
  },
  {
   "cell_type": "code",
   "execution_count": 4,
   "metadata": {
    "collapsed": false
   },
   "outputs": [],
   "source": [
    "# Create new data set that comprises the age and survived columns\n",
    "cols_to_keep = ['Survived','Age']\n",
    "age_data = clean_age_df[cols_to_keep].copy()\n",
    "\n",
    "# Add an intercept column so that the logistic regression estimates an intercept\n",
    "age_data['Intercept'] = 1.0\n",
    "#print age_data.head()"
   ]
  },
  {
   "cell_type": "markdown",
   "metadata": {},
   "source": [
    "## Start simple with a model of survivorship as a function of only age"
   ]
  },
  {
   "cell_type": "code",
   "execution_count": 5,
   "metadata": {
    "collapsed": false
   },
   "outputs": [
    {
     "name": "stdout",
     "output_type": "stream",
     "text": [
      "   Survived   Age  Intercept\n",
      "1         1  38.0        1.0\n",
      "2         1  26.0        1.0\n",
      "3         1  35.0        1.0\n",
      "8         1  27.0        1.0\n",
      "9         1  14.0        1.0\n",
      "28.3436896552 14.9509519841\n",
      "30.6261792453 14.1721098771\n"
     ]
    },
    {
     "data": {
      "image/png": "[encoded data removed]",
      "text/plain": [
       "<matplotlib.figure.Figure at 0xbe1ce10>"
      ]
     },
     "metadata": {},
     "output_type": "display_data"
    }
   ],
   "source": [
    "# Visualize the distribution of ages for survivors and fatalities first\n",
    "survived_age = age_data[age_data['Survived']==1]\n",
    "died_age = age_data[age_data['Survived']==0]\n",
    "\n",
    "print survived_age.head()\n",
    "# Calculate mean ages of survivors and fatalities\n",
    "mu_s_age = np.mean(survived_age['Age'])\n",
    "std_s_age = np.std(survived_age['Age'],ddof=1)\n",
    "print mu_s_age,std_s_age\n",
    "mu_d_age = np.mean(died_age['Age'])\n",
    "std_d_age = np.std(died_age['Age'],ddof=1)\n",
    "print mu_d_age,std_d_age\n",
    "\n",
    "# Plot histogram and vertical line corresponding with the mean age for the surviving or fatality group\n",
    "n2,bins2,patches2 = plt.hist(survived_age['Age'],40,facecolor='green',alpha=.85,label='Survivors')\n",
    "plt.axvline(mu_s_age, color='green', linestyle='dashed', linewidth=2)\n",
    "plt.xlim([0,80])\n",
    "n3,bins3,patches3 = plt.hist(died_age['Age'],40,facecolor='blue',alpha=.6,label='Fatalities')\n",
    "plt.axvline(mu_d_age, color='blue', linestyle='dashed', linewidth=2)\n",
    "\n",
    "plt.xlabel(\"Passenger Age\")\n",
    "plt.ylabel(\"Number of Passengers\")\n",
    "plt.grid(True)\n",
    "plt.legend()\n",
    "plt.show()\n",
    "#plt.savefig('simpleagedist.png')"
   ]
  },
  {
   "cell_type": "code",
   "execution_count": 6,
   "metadata": {
    "collapsed": false
   },
   "outputs": [
    {
     "name": "stdout",
     "output_type": "stream",
     "text": [
      "                 Generalized Linear Model Regression Results                  \n",
      "==============================================================================\n",
      "Dep. Variable:               Survived   No. Observations:                  714\n",
      "Model:                            GLM   Df Residuals:                      712\n",
      "Model Family:                Binomial   Df Model:                            1\n",
      "Link Function:                  logit   Scale:                             1.0\n",
      "Method:                          IRLS   Log-Likelihood:                -480.11\n",
      "Date:                Sat, 29 Oct 2016   Deviance:                       960.23\n",
      "Time:                        15:06:22   Pearson chi2:                     714.\n",
      "No. Iterations:                     6                                         \n",
      "==============================================================================\n",
      "                 coef    std err          z      P>|z|      [95.0% Conf. Int.]\n",
      "------------------------------------------------------------------------------\n",
      "Age           -0.0110      0.005     -2.057      0.040        -0.021    -0.001\n",
      "Intercept     -0.0567      0.174     -0.327      0.744        -0.397     0.283\n",
      "==============================================================================\n",
      "Optimization terminated successfully.\n",
      "         Current function value: 0.672429\n",
      "         Iterations 4\n",
      "                           Logit Regression Results                           \n",
      "==============================================================================\n",
      "Dep. Variable:               Survived   No. Observations:                  714\n",
      "Model:                          Logit   Df Residuals:                      712\n",
      "Method:                           MLE   Df Model:                            1\n",
      "Date:                Sat, 29 Oct 2016   Pseudo R-squ.:                0.004445\n",
      "Time:                        15:06:22   Log-Likelihood:                -480.11\n",
      "converged:                       True   LL-Null:                       -482.26\n",
      "                                        LLR p-value:                   0.03839\n",
      "==============================================================================\n",
      "                 coef    std err          z      P>|z|      [95.0% Conf. Int.]\n",
      "------------------------------------------------------------------------------\n",
      "Intercept     -0.0567      0.174     -0.327      0.744        -0.397     0.283\n",
      "Age           -0.0110      0.005     -2.057      0.040        -0.021    -0.001\n",
      "==============================================================================\n",
      "Age          0.989096\n",
      "Intercept    0.944855\n",
      "dtype: float64\n"
     ]
    },
    {
     "data": {
      "image/png": "[encoded data removed]",
      "text/plain": [
       "<matplotlib.figure.Figure at 0xbd71d30>"
      ]
     },
     "metadata": {},
     "output_type": "display_data"
    }
   ],
   "source": [
    "# Run a logistic regression using the GLM function and specifying the binomial family\n",
    "# Note: this regression is of the Survived variable on age, an intercept is also being estimated\n",
    "age_only_train = age_data.columns[[1,2]]\n",
    "age_logit = sm.GLM(age_data['Survived'], age_data[age_only_train], family=sm.families.Binomial())\n",
    "result = age_logit.fit()\n",
    "print result.summary()\n",
    "\n",
    "age_only = logit(formula = 'Survived ~ Age',data =age_data).fit()\n",
    "print age_only.summary()\n",
    "\n",
    "# Plot fit of the model\n",
    "nobs = result.nobs\n",
    "y =  clean_age_df['Survived']/ clean_age_df['Survived'].mean()\n",
    "yhat = result.mu\n",
    "fig, ax = plt.subplots()\n",
    "ax.scatter(yhat, y)\n",
    "line_fit = sm.OLS(y, sm.add_constant(yhat, prepend=True)).fit()\n",
    "abline_plot(model_results=line_fit,ax=ax)\n",
    "ax.set_title('Model Fit Plot')\n",
    "ax.set_ylabel('Observed values')\n",
    "ax.set_xlabel('Fitted values')\n",
    "\n",
    "# output odds ratios\n",
    "print np.exp(result.params)"
   ]
  },
  {
   "cell_type": "code",
   "execution_count": 7,
   "metadata": {
    "collapsed": false,
    "scrolled": true
   },
   "outputs": [
    {
     "data": {
      "image/png": "[encoded data removed]",
      "text/plain": [
       "<matplotlib.figure.Figure at 0xc841da0>"
      ]
     },
     "execution_count": 7,
     "metadata": {},
     "output_type": "execute_result"
    },
    {
     "data": {
      "image/png": "[encoded data removed]",
      "text/plain": [
       "<matplotlib.figure.Figure at 0xbe1c630>"
      ]
     },
     "metadata": {},
     "output_type": "display_data"
    },
    {
     "data": {
      "image/png": "[encoded data removed]",
      "text/plain": [
       "<matplotlib.figure.Figure at 0xc841da0>"
      ]
     },
     "metadata": {},
     "output_type": "display_data"
    }
   ],
   "source": [
    "# Generate a plot that shows the fit of the standardized residuals to the binomial distribution\n",
    "fig, ax = plt.subplots()\n",
    "\n",
    "resid = result.resid_deviance.copy()\n",
    "resid_std = stats.zscore(resid)\n",
    "ax.hist(resid_std, bins=25)\n",
    "ax.set_title('Histogram of standardized deviance residuals');\n",
    "graphics.gofplots.qqplot(resid, line='r')"
   ]
  },
  {
   "cell_type": "markdown",
   "metadata": {},
   "source": [
    "Here we see that while the age effect is statistically significant, the model does not explain much of the variation in the data set. We will need to consider more complex models to see if there is a better way to explain survivorship than with age alone."
   ]
  },
  {
   "cell_type": "markdown",
   "metadata": {},
   "source": [
    "#### Compare the probability of survival of the very old and very young to everyone else"
   ]
  },
  {
   "cell_type": "code",
   "execution_count": 8,
   "metadata": {
    "collapsed": false
   },
   "outputs": [
    {
     "name": "stdout",
     "output_type": "stream",
     "text": [
      "Age_class\n",
      "adult     0.384470\n",
      "child     0.590361\n",
      "senior    0.368932\n",
      "Name: Survived, dtype: float64\n",
      "[[ 0.  0.]\n",
      " [ 1.  0.]\n",
      " [ 0.  1.]]\n",
      "                            OLS Regression Results                            \n",
      "==============================================================================\n",
      "Dep. Variable:               Survived   R-squared:                       0.019\n",
      "Model:                            OLS   Adj. R-squared:                  0.016\n",
      "Method:                 Least Squares   F-statistic:                     6.747\n",
      "Date:                Sat, 29 Oct 2016   Prob (F-statistic):            0.00125\n",
      "Time:                        15:06:25   Log-Likelihood:                -498.70\n",
      "No. Observations:                 714   AIC:                             1003.\n",
      "Df Residuals:                     711   BIC:                             1017.\n",
      "Df Model:                           2                                         \n",
      "Covariance Type:            nonrobust                                         \n",
      "=====================================================================================================\n",
      "                                        coef    std err          t      P>|t|      [95.0% Conf. Int.]\n",
      "-----------------------------------------------------------------------------------------------------\n",
      "Intercept                             0.3845      0.021     18.120      0.000         0.343     0.426\n",
      "C(Age_class, Treatment)[T.child]      0.2059      0.058      3.577      0.000         0.093     0.319\n",
      "C(Age_class, Treatment)[T.senior]    -0.0155      0.053     -0.296      0.767        -0.119     0.088\n",
      "==============================================================================\n",
      "Omnibus:                       16.714   Durbin-Watson:                   1.917\n",
      "Prob(Omnibus):                  0.000   Jarque-Bera (JB):              111.289\n",
      "Skew:                           0.383   Prob(JB):                     6.82e-25\n",
      "Kurtosis:                       1.224   Cond. No.                         3.39\n",
      "==============================================================================\n",
      "\n",
      "Warnings:\n",
      "[1] Standard Errors assume that the covariance matrix of the errors is correctly specified.\n"
     ]
    }
   ],
   "source": [
    "def age_class(row):\n",
    "    if row['Age'] <= 15:\n",
    "        val = 'child'\n",
    "    elif row['Age'] > 15 and row['Age'] <= 45:\n",
    "        val = 'adult'\n",
    "    else:\n",
    "        val = 'senior'\n",
    "    return val\n",
    "\n",
    "age_data['Age_class'] = age_data.apply(age_class,axis=1)\n",
    "#print age_data.head()\n",
    "\n",
    "# perform contrasts comparing male and female survivors\n",
    "from patsy.contrasts import Treatment\n",
    "levels = [1,2,3]\n",
    "contrast = Treatment(reference=0).code_without_intercept(levels)\n",
    "print age_data.groupby('Age_class')['Survived'].mean()\n",
    "print contrast.matrix\n",
    "\n",
    "c_age = ols('Survived ~ C(Age_class,Treatment)',data=age_data)\n",
    "res_c_age = c_age.fit()\n",
    "print(res_c_age.summary())\n"
   ]
  },
  {
   "cell_type": "markdown",
   "metadata": {},
   "source": [
    "## Look at the influence of age and sex on survivorship"
   ]
  },
  {
   "cell_type": "code",
   "execution_count": 9,
   "metadata": {
    "collapsed": false
   },
   "outputs": [
    {
     "name": "stdout",
     "output_type": "stream",
     "text": [
      "Gender ratio (proportion of men) of passengers 0.634453781513\n",
      "Gender ratio of survivors:  0.320689655172\n",
      "Mean age of male survivors: 27.2760215054 Std: 16.5048029992\n",
      "Mean age of male fatalities: 31.6180555556 Std: 14.0560193035\n",
      "Mean age of female survivors: 28.847715736 Std: 14.1750727011\n",
      "Mean age of female fatalities: 25.046875 Std: 13.6185910367\n"
     ]
    }
   ],
   "source": [
    "# Create new data set that comprises the age, sex and survived columns\n",
    "cols_to_keep = ['Survived','Age','Sex']\n",
    "agesex_data = clean_age_df[cols_to_keep].copy()\n",
    "\n",
    "# Add an intercept column so that the logistic regression estimates an intercept\n",
    "agesex_data['Intercept'] = 1.0\n",
    "\n",
    "# Do some exploratory analysis\n",
    "# Visualize the distribution of ages for surviving men and women\n",
    "survived_age = agesex_data[agesex_data['Survived']==1]\n",
    "died_age = agesex_data[agesex_data['Survived']==0]\n",
    "\n",
    "surv_men = survived_age[survived_age['Sex']=='male']\n",
    "dead_men = died_age[died_age['Sex']=='male']\n",
    "surv_women = survived_age[survived_age['Sex']=='female']\n",
    "dead_women = died_age[died_age['Sex']=='female']\n",
    "\n",
    "# Look at the gender ratio\n",
    "num_men = surv_men['Age'].count() + dead_men['Age'].count()\n",
    "num_women = surv_women['Age'].count() + dead_women['Age'].count()\n",
    "print \"Gender ratio (proportion of men) of passengers\",float(num_men)/(num_women + num_men)\n",
    "\n",
    "# Look at gender ratio of survivors\n",
    "num_s_men = surv_men['Age'].count()\n",
    "num_s_women = surv_women['Age'].count()\n",
    "print \"Gender ratio of survivors: \",float(num_s_men)/(num_s_women + num_s_men)\n",
    "\n",
    "# Calculate mean ages of survivors and fatalities of each sex\n",
    "mu_sm_age = np.mean(surv_men['Age'])\n",
    "std_sm_age = np.std(surv_men['Age'],ddof=1)\n",
    "print \"Mean age of male survivors:\", mu_sm_age,\"Std:\",std_sm_age\n",
    "mu_dm_age = np.mean(dead_men['Age'])\n",
    "std_dm_age = np.std(dead_men['Age'],ddof=1)\n",
    "print \"Mean age of male fatalities:\",mu_dm_age,\"Std:\",std_dm_age\n",
    "\n",
    "mu_sw_age = np.mean(surv_women['Age'])\n",
    "std_sw_age = np.std(surv_women['Age'],ddof=1)\n",
    "print \"Mean age of female survivors:\", mu_sw_age,\"Std:\",std_sw_age\n",
    "mu_dw_age = np.mean(dead_women['Age'])\n",
    "std_dw_age = np.std(dead_women['Age'],ddof=1)\n",
    "print \"Mean age of female fatalities:\",mu_dw_age,\"Std:\",std_dw_age"
   ]
  },
  {
   "cell_type": "code",
   "execution_count": 10,
   "metadata": {
    "collapsed": false
   },
   "outputs": [
    {
     "data": {
      "image/png": "[encoded data removed]",
      "text/plain": [
       "<matplotlib.figure.Figure at 0xc9acbe0>"
      ]
     },
     "metadata": {},
     "output_type": "display_data"
    }
   ],
   "source": [
    "# Three subplots sharing both x/y axes\n",
    "f, (ax1, ax2) = plt.subplots(2, sharex=True,)\n",
    "\n",
    "# Plot histogram and vertical line corresponding with the mean age for the surviving or fatality group\n",
    "# Surviving men\n",
    "ax1.hist(surv_men['Age'],40,facecolor='cyan',alpha=.75,label='Male Survivors')\n",
    "ax1.axvline(mu_sm_age, color='blue', linestyle='dashed', linewidth=2)\n",
    "# Dead men\n",
    "ax1.hist(dead_men['Age'],40,facecolor='magenta',alpha=.5,label='Male Fatalities')\n",
    "ax1.axvline(mu_dm_age, color='red', linestyle='dashed', linewidth=2)\n",
    "ax1.legend()\n",
    "\n",
    "# Surviving women\n",
    "ax2.hist(surv_women['Age'],40,facecolor='cyan',alpha=.75,label='Female Survivors')\n",
    "ax2.axvline(mu_sw_age, color='blue', linestyle='dashed', linewidth=2)\n",
    "# Dead men\n",
    "ax2.hist(dead_women['Age'],40,facecolor='magenta',alpha=.5,label='Female Fatalities')\n",
    "ax2.axvline(mu_dw_age, color='red', linestyle='dashed', linewidth=2)\n",
    "\n",
    "plt.xlabel(\"Passenger Age\")\n",
    "plt.ylabel(\"Number of Passengers\")\n",
    "plt.grid(True)\n",
    "ax2.legend()\n",
    "\n",
    "ax2.yaxis.set_label_coords(-.08, 1.05)\n",
    "\n",
    "plt.show()\n"
   ]
  },
  {
   "cell_type": "code",
   "execution_count": 11,
   "metadata": {
    "collapsed": false
   },
   "outputs": [],
   "source": [
    "# Create a dummy variable for the sex variable\n",
    "dummy_ranks_sex = pd.get_dummies(clean_age_df['Sex'],prefix='Sex')\n",
    "dummy_ranks_sex = dummy_ranks_sex.astype(int)\n",
    "#print dummy_ranks_sex.head()\n",
    "\n",
    "# Add the intercept to the starting clean df\n",
    "clean_age_df['Intercept'] = 1.0\n",
    "#print clean_age_df.head()\n",
    "\n",
    "# Create new data set that joins the dummy variable to the relevant variables for the analysis\n",
    "cols_to_keep2 = ['Survived','Age','Intercept']\n",
    "agesex_data = clean_age_df[cols_to_keep2].join(dummy_ranks_sex.ix[:,'Sex_male':])\n",
    "#print agesex_data.head()"
   ]
  },
  {
   "cell_type": "code",
   "execution_count": 12,
   "metadata": {
    "collapsed": false
   },
   "outputs": [
    {
     "name": "stdout",
     "output_type": "stream",
     "text": [
      "Optimization terminated successfully.\n",
      "         Current function value: 0.518490\n",
      "         Iterations 6\n",
      "                           Logit Regression Results                           \n",
      "==============================================================================\n",
      "Dep. Variable:               Survived   No. Observations:                  714\n",
      "Model:                          Logit   Df Residuals:                      710\n",
      "Method:                           MLE   Df Model:                            3\n",
      "Date:                Sat, 29 Oct 2016   Pseudo R-squ.:                  0.2324\n",
      "Time:                        15:06:28   Log-Likelihood:                -370.20\n",
      "converged:                       True   LL-Null:                       -482.26\n",
      "                                        LLR p-value:                 2.592e-48\n",
      "================================================================================\n",
      "                   coef    std err          z      P>|z|      [95.0% Conf. Int.]\n",
      "--------------------------------------------------------------------------------\n",
      "Intercept        0.5938      0.310      1.913      0.056        -0.014     1.202\n",
      "Age              0.0197      0.011      1.863      0.062        -0.001     0.040\n",
      "Sex_male        -1.3178      0.408     -3.226      0.001        -2.118    -0.517\n",
      "Age:Sex_male    -0.0411      0.014     -3.034      0.002        -0.068    -0.015\n",
      "================================================================================\n",
      "Intercept       1.810858\n",
      "Age             1.019897\n",
      "Sex_male        0.267737\n",
      "Age:Sex_male    0.959715\n",
      "dtype: float64\n"
     ]
    },
    {
     "data": {
      "text/plain": [
       "<matplotlib.text.Text at 0xd997128>"
      ]
     },
     "execution_count": 12,
     "metadata": {},
     "output_type": "execute_result"
    },
    {
     "data": {
      "image/png": "[encoded data removed]",
      "text/plain": [
       "<matplotlib.figure.Figure at 0xc545ef0>"
      ]
     },
     "metadata": {},
     "output_type": "display_data"
    }
   ],
   "source": [
    "# Run a full logistic regression model including the interaction between age and sex\n",
    "agesex_train = agesex_data.columns[[1,2,3]]\n",
    "agesex_logit = sm.GLM(agesex_data['Survived'], agesex_data[agesex_train], family=sm.families.Binomial()).fit()\n",
    "#print agesex_logit.summary()\n",
    "male_int = logit(formula = 'Survived ~ Age + Sex_male + Age*Sex_male',data =agesex_data).fit()\n",
    "print male_int.summary()\n",
    "\n",
    "# output odds ratios for this full model\n",
    "print np.exp(male_int.params)\n",
    "\n",
    "#Print some diagnostic plots to assess model fit\n",
    "nobs_ans = agesex_logit.nobs\n",
    "\n",
    "y_ans = agesex_data['Survived']/agesex_data['Survived'].mean()\n",
    "yhat_ans = agesex_logit.mu\n",
    "fig_ans, ax_ans = plt.subplots()\n",
    "ax_ans.scatter(yhat_ans, y_ans)\n",
    "line_fit_ans = sm.OLS(y_ans, sm.add_constant(yhat_ans, prepend=True)).fit()\n",
    "abline_plot(model_results=line_fit_ans,ax=ax_ans)\n",
    "ax_ans.set_title('Model Fit Plot')\n",
    "ax_ans.set_ylabel('Observed values')\n",
    "ax_ans.set_xlabel('Fitted values')\n"
   ]
  },
  {
   "cell_type": "code",
   "execution_count": 13,
   "metadata": {
    "collapsed": false
   },
   "outputs": [
    {
     "data": {
      "image/png": "[encoded data removed]",
      "text/plain": [
       "<matplotlib.figure.Figure at 0xe0e7630>"
      ]
     },
     "execution_count": 13,
     "metadata": {},
     "output_type": "execute_result"
    },
    {
     "data": {
      "image/png": "[encoded data removed]",
      "text/plain": [
       "<matplotlib.figure.Figure at 0xc9c2a90>"
      ]
     },
     "metadata": {},
     "output_type": "display_data"
    },
    {
     "data": {
      "image/png": "[encoded data removed]",
      "text/plain": [
       "<matplotlib.figure.Figure at 0xe0e7630>"
      ]
     },
     "metadata": {},
     "output_type": "display_data"
    }
   ],
   "source": [
    "# Make a residual quantile plot for the model of the interaction\n",
    "fig_ans, ax_ans = plt.subplots()\n",
    "\n",
    "resid_agesex = agesex_logit.resid_deviance.copy()\n",
    "resid_std_ans = stats.zscore(resid_agesex)\n",
    "ax_ans.hist(resid_std_ans, bins=25)\n",
    "ax_ans.set_title('Histogram of standardized deviance residuals');\n",
    "graphics.gofplots.qqplot(resid_agesex, line='r')"
   ]
  },
  {
   "cell_type": "code",
   "execution_count": 14,
   "metadata": {
    "collapsed": false
   },
   "outputs": [
    {
     "name": "stdout",
     "output_type": "stream",
     "text": [
      "Age_sex\n",
      "adult_fem     0.760638\n",
      "adult_male    0.176471\n",
      "child         0.590361\n",
      "senior        0.368932\n",
      "Name: Survived, dtype: float64\n",
      "                            OLS Regression Results                            \n",
      "==============================================================================\n",
      "Dep. Variable:               Survived   R-squared:                       0.259\n",
      "Model:                            OLS   Adj. R-squared:                  0.255\n",
      "Method:                 Least Squares   F-statistic:                     82.51\n",
      "Date:                Sat, 29 Oct 2016   Prob (F-statistic):           8.36e-46\n",
      "Time:                        15:06:29   Log-Likelihood:                -398.64\n",
      "No. Observations:                 714   AIC:                             805.3\n",
      "Df Residuals:                     710   BIC:                             823.6\n",
      "Df Model:                           3                                         \n",
      "Covariance Type:            nonrobust                                         \n",
      "=======================================================================================================\n",
      "                                          coef    std err          t      P>|t|      [95.0% Conf. Int.]\n",
      "-------------------------------------------------------------------------------------------------------\n",
      "Intercept                               0.7606      0.031     24.592      0.000         0.700     0.821\n",
      "C(Age_sex, Treatment)[T.adult_male]    -0.5842      0.039    -15.156      0.000        -0.660    -0.508\n",
      "C(Age_sex, Treatment)[T.child]         -0.1703      0.056     -3.047      0.002        -0.280    -0.061\n",
      "C(Age_sex, Treatment)[T.senior]        -0.3917      0.052     -7.535      0.000        -0.494    -0.290\n",
      "==============================================================================\n",
      "Omnibus:                       27.266   Durbin-Watson:                   1.888\n",
      "Prob(Omnibus):                  0.000   Jarque-Bera (JB):               20.228\n",
      "Skew:                           0.311   Prob(JB):                     4.05e-05\n",
      "Kurtosis:                       2.458   Cond. No.                         5.15\n",
      "==============================================================================\n",
      "\n",
      "Warnings:\n",
      "[1] Standard Errors assume that the covariance matrix of the errors is correctly specified.\n"
     ]
    }
   ],
   "source": [
    "# perform contrasts to test some hypotheses, namely:\n",
    "# adult females were more likely to survive than adult males\n",
    "# adult females were more likely to survive than elderly passengers\n",
    "# children were more likely to survive than adult males\n",
    "# children were more likely to survive than elderly passengers\n",
    "\n",
    "# use previous age_class function from before\n",
    "agesex_data['Age_class'] = age_data.apply(age_class,axis=1)\n",
    "\n",
    "# create another function that creates an age/sex class\n",
    "def sex_class(row):\n",
    "    if row['Age_class'] == 'child':\n",
    "        val = 'child'\n",
    "    elif row['Age_class'] == 'adult':\n",
    "        if row['Sex_male'] == 1:\n",
    "            val = 'adult_male'\n",
    "        else:\n",
    "            val = 'adult_fem'\n",
    "    else:\n",
    "        val = 'senior'\n",
    "    return val\n",
    "            \n",
    "agesex_data['Age_sex'] = agesex_data.apply(sex_class,axis=1)\n",
    "#print agesex_data.head()\n",
    "\n",
    "levels = [1,2,3,4]\n",
    "contrast = Treatment(reference=0).code_without_intercept(levels)\n",
    "print agesex_data.groupby('Age_sex')['Survived'].mean()\n",
    "#print contrast.matrix\n",
    "\n",
    "c_agesex = ols('Survived ~ C(Age_sex,Treatment)',data=agesex_data)\n",
    "res_c_agesex = c_agesex.fit()\n",
    "print(res_c_agesex.summary())\n",
    "#print res_c_agesex.pvalues\n"
   ]
  },
  {
   "cell_type": "markdown",
   "metadata": {},
   "source": [
    "## Look at the influence of socioeconomic class on survivorship"
   ]
  },
  {
   "cell_type": "code",
   "execution_count": 15,
   "metadata": {
    "collapsed": false
   },
   "outputs": [
    {
     "name": "stdout",
     "output_type": "stream",
     "text": [
      "          First Class  Second Class  Third Class  RowTotal\n",
      "Died               80            97          372       549\n",
      "Survived          136            87          119       342\n",
      "ColTotal          216           184          491       891\n",
      "          First Class  Second Class  Third Class  RowTotal\n",
      "Died          0.37037      0.527174     0.757637  0.616162\n",
      "Survived      0.62963      0.472826     0.242363  0.383838\n",
      "ColTotal      1.00000      1.000000     1.000000  1.000000\n"
     ]
    }
   ],
   "source": [
    "# Because both the dependent and independent variables for this are categorical, I will use a frequency\n",
    "# table to determine whether (or not) there are significant differences in survivorship among the passenger classes\n",
    "\n",
    "class_tab = pd.crosstab(index = titanic_df['Survived'],columns=titanic_df['Pclass'],margins=True)\n",
    "class_tab.columns = [\"First Class\",\"Second Class\",\"Third Class\",\"RowTotal\"]\n",
    "class_tab.index = [\"Died\",\"Survived\",\"ColTotal\"]\n",
    "print class_tab\n",
    "\n",
    "prop_surv_class = class_tab / class_tab.ix[\"ColTotal\"]\n",
    "print prop_surv_class\n",
    "\n",
    "# make a list containing the proportion of survivors in each class\n",
    "class_surv = []\n",
    "for i in prop_surv_class.columns:\n",
    "    if i != 'RowTotal':\n",
    "        class_surv.append(prop_surv_class[i][1])\n",
    "class_surv = list(reversed(class_surv))\n",
    "#print class_surv"
   ]
  },
  {
   "cell_type": "code",
   "execution_count": 16,
   "metadata": {
    "collapsed": false,
    "scrolled": false
   },
   "outputs": [
    {
     "name": "stdout",
     "output_type": "stream",
     "text": [
      "                 Generalized Linear Model Regression Results                  \n",
      "==============================================================================\n",
      "Dep. Variable:               Survived   No. Observations:                  891\n",
      "Model:                            GLM   Df Residuals:                      889\n",
      "Model Family:                Binomial   Df Model:                            1\n",
      "Link Function:                  logit   Scale:                             1.0\n",
      "Method:                          IRLS   Log-Likelihood:                -542.20\n",
      "Date:                Sat, 29 Oct 2016   Deviance:                       1084.4\n",
      "Time:                        15:06:36   Pearson chi2:                     890.\n",
      "No. Iterations:                     6                                         \n",
      "==============================================================================\n",
      "                 coef    std err          z      P>|z|      [95.0% Conf. Int.]\n",
      "------------------------------------------------------------------------------\n",
      "Pclass        -0.8501      0.087     -9.755      0.000        -1.021    -0.679\n",
      "Intercept      1.4468      0.207      6.975      0.000         1.040     1.853\n",
      "==============================================================================\n",
      "Pclass       0.427369\n",
      "Intercept    4.249450\n",
      "dtype: float64\n"
     ]
    }
   ],
   "source": [
    "# Use a glm with a binomial distribution to model prob of survival based on passenger class (in this case \n",
    "# assume class is a continuous variable)\n",
    "titanic_df['Intercept'] = 1.0\n",
    "class_train = titanic_df.columns[[2,12]]\n",
    "class_logit = sm.GLM(titanic_df['Survived'], titanic_df[class_train], family=sm.families.Binomial()).fit()\n",
    "print class_logit.summary()\n",
    "#print class_logit.pvalues\n",
    "\n",
    "# output odds ratios for continuous class model\n",
    "print np.exp(class_logit.params)\n",
    "\n",
    "# The following analysis is the categorical analogue of the analysis above... it seemed more interesting to consider class as\n",
    "# a categorical variable for the purposes of analysis. \n",
    "if False:\n",
    "    # Create a dummy variable for the pclass variable\n",
    "    dummy_ranks_class = pd.get_dummies(titanic_df['Pclass'],prefix='Pclass')\n",
    "    dummy_ranks_class = dummy_ranks_class.astype(int)\n",
    "\n",
    "    # Create new data set that joins the dummy variable to the relevant variables for the analysis\n",
    "    cols_to_keep3 = ['Survived','Pclass','Intercept']\n",
    "    class_data = titanic_df[cols_to_keep3].join(dummy_ranks_class.ix[:,'Pclass_2':])\n",
    "    #print class_data.head()\n",
    "\n",
    "    # Create another model where passenger class is a categorical variable\n",
    "    class_train2 = class_data.columns[[2,3,4]]\n",
    "    c_logit = sm.GLM(class_data['Survived'], class_data[class_train2], family=sm.families.Binomial()).fit()\n",
    "    print c_logit.summary()\n",
    "\n",
    "    # output odds ratios for categorical class model\n",
    "    print np.exp(c_logit.params)"
   ]
  },
  {
   "cell_type": "code",
   "execution_count": 17,
   "metadata": {
    "collapsed": false
   },
   "outputs": [
    {
     "data": {
      "text/plain": [
       "<matplotlib.text.Text at 0xe571f98>"
      ]
     },
     "execution_count": 17,
     "metadata": {},
     "output_type": "execute_result"
    },
    {
     "data": {
      "image/png": "[encoded data removed]",
      "text/plain": [
       "<matplotlib.figure.Figure at 0xe571908>"
      ]
     },
     "metadata": {},
     "output_type": "display_data"
    }
   ],
   "source": [
    "# Print some diagnostic plots to assess model fit\n",
    "nobs_class = class_logit.nobs\n",
    "\n",
    "y_class = titanic_df['Survived']/titanic_df['Survived'].mean()\n",
    "yhat_class = class_logit.mu\n",
    "fig_class, ax_class = plt.subplots()\n",
    "ax_class.scatter(yhat_class, y_class)\n",
    "line_fit_class = sm.OLS(y_class, sm.add_constant(yhat_class, prepend=True)).fit()\n",
    "abline_plot(model_results=line_fit_class,ax=ax_class)\n",
    "ax_class.set_title('Model Fit Plot')\n",
    "ax_class.set_ylabel('Observed values')\n",
    "ax_class.set_xlabel('Fitted values')"
   ]
  },
  {
   "cell_type": "code",
   "execution_count": 18,
   "metadata": {
    "collapsed": false
   },
   "outputs": [
    {
     "name": "stdout",
     "output_type": "stream",
     "text": [
      "Pclass        1           2           3       All\n",
      "Sex      female male female male female male     \n",
      "Survived                                         \n",
      "0             3   77      6   91     72  300  549\n",
      "1            91   45     70   17     72   47  342\n",
      "All          94  122     76  108    144  347  891\n",
      "Pclass           1                   2                3                 All\n",
      "Sex         female      male    female      male female      male          \n",
      "Survived                                                                   \n",
      "0         0.031915  0.631148  0.078947  0.842593    0.5  0.864553  0.616162\n",
      "1         0.968085  0.368852  0.921053  0.157407    0.5  0.135447  0.383838\n",
      "All       1.000000  1.000000  1.000000  1.000000    1.0  1.000000  1.000000\n"
     ]
    }
   ],
   "source": [
    "# take a look at things closer by looking at sex in addition to passenger class\n",
    "class_sex_tab = pd.crosstab(index=titanic_df['Survived'],columns=[titanic_df['Pclass'],titanic_df['Sex']],margins = True)\n",
    "print class_sex_tab\n",
    "\n",
    "# Calculate the proportion of males and females that survived for each class\n",
    "sex_prop_surv = class_sex_tab / class_sex_tab.ix[\"All\"]\n",
    "print sex_prop_surv\n",
    "fem_prop = []\n",
    "male_prop = []\n",
    "for i in range(3):\n",
    "    fem_prop.append(sex_prop_surv[3-i]['female'][1])\n",
    "    male_prop.append(sex_prop_surv[3-i]['male'][1])\n",
    "    "
   ]
  },
  {
   "cell_type": "code",
   "execution_count": 19,
   "metadata": {
    "collapsed": false
   },
   "outputs": [
    {
     "data": {
      "image/png": "[encoded data removed]",
      "text/plain": [
       "<matplotlib.figure.Figure at 0xe106978>"
      ]
     },
     "metadata": {},
     "output_type": "display_data"
    }
   ],
   "source": [
    "# Create a figure to show probability of survival overall, and when one considers a passenger's sex\n",
    "fig=plt.figure()\n",
    "class_xs = [0,1,2]\n",
    "fem_xs = [-0.1,0.9,1.9]\n",
    "male_xs = [.1,1.1,2.1]\n",
    "x_labels = ['3rd Class','2nd Class','1st Class']\n",
    "plt.scatter(class_xs,class_surv,c='black',label='Population')\n",
    "plt.scatter(fem_xs,fem_prop,label=\"Females\",c='red')\n",
    "plt.scatter(male_xs,male_prop,label=\"Males\",c='blue')\n",
    "#plt.setp(fig.get_xticklabels(),visible=True)\n",
    "plt.xticks(range(len(class_surv)),x_labels,size='small')\n",
    "plt.ylabel('Proportion of passengers that survived')\n",
    "plt.xlabel(\"Passenger's cabin class\")\n",
    "plt.ylim([0,1])\n",
    "plt.legend(loc='upper left')\n",
    "plt.show()"
   ]
  },
  {
   "cell_type": "code",
   "execution_count": 20,
   "metadata": {
    "collapsed": false
   },
   "outputs": [
    {
     "name": "stdout",
     "output_type": "stream",
     "text": [
      "Optimization terminated successfully.\n",
      "         Current function value: 0.454920\n",
      "         Iterations 7\n",
      "                           Logit Regression Results                           \n",
      "==============================================================================\n",
      "Dep. Variable:               Survived   No. Observations:                  714\n",
      "Model:                          Logit   Df Residuals:                      710\n",
      "Method:                           MLE   Df Model:                            3\n",
      "Date:                Sat, 29 Oct 2016   Pseudo R-squ.:                  0.3265\n",
      "Time:                        15:06:41   Log-Likelihood:                -324.81\n",
      "converged:                       True   LL-Null:                       -482.26\n",
      "                                        LLR p-value:                 5.956e-68\n",
      "===================================================================================\n",
      "                      coef    std err          z      P>|z|      [95.0% Conf. Int.]\n",
      "-----------------------------------------------------------------------------------\n",
      "Intercept           6.1052      0.852      7.163      0.000         4.435     7.776\n",
      "Pclass             -2.0674      0.311     -6.655      0.000        -2.676    -1.459\n",
      "Sex_male           -6.0503      0.908     -6.664      0.000        -7.830    -4.271\n",
      "Pclass:Sex_male     1.4306      0.340      4.207      0.000         0.764     2.097\n",
      "===================================================================================\n",
      "Intercept          7.869740e-13\n",
      "Pclass             2.829928e-11\n",
      "Sex_male           2.663416e-11\n",
      "Pclass:Sex_male    2.591967e-05\n",
      "dtype: float64\n",
      "The odds ratios are: \n",
      "Intercept          448.199343\n",
      "Pclass               0.126510\n",
      "Sex_male             0.002357\n",
      "Pclass:Sex_male      4.181031\n",
      "dtype: float64\n"
     ]
    }
   ],
   "source": [
    "# Run a glm with a binomial distribution to model prob of survival based on passenger class and passenger sex (in this case \n",
    "# assume class is a continuous variable)\n",
    "cols_to_keep = ['Survived','Sex','Pclass']\n",
    "sex_data = titanic_df[cols_to_keep].copy()\n",
    "# Create a dummy variable for the sex variable\n",
    "dummy_ranks_sex = pd.get_dummies(sex_data['Sex'],prefix='Sex')\n",
    "dummy_ranks_sex = dummy_ranks_sex.astype(int)\n",
    "#print dummy_ranks_sex.head()\n",
    "\n",
    "# Add an intercept column so that the logistic regression estimates an intercept\n",
    "sex_data['Intercept'] = 1.0\n",
    "\n",
    "# Create new data set that joins the dummy variable to the relevant variables for the analysis\n",
    "cols_to_keep4 = ['Survived','Pclass','Intercept']\n",
    "sex_data = clean_age_df[cols_to_keep4].join(dummy_ranks_sex.ix[:,'Sex_male':])\n",
    "#print sex_data.head()\n",
    "\n",
    "sexclass_train = sex_data.columns[[1,2,3]]\n",
    "sexclass_logit = logit(formula='Survived ~ Pclass + Sex_male + Pclass * Sex_male',data=sex_data).fit()\n",
    "print sexclass_logit.summary()\n",
    "print sexclass_logit.pvalues\n",
    "\n",
    "print \"The odds ratios are: \\n\", np.exp(sexclass_logit.params)"
   ]
  },
  {
   "cell_type": "markdown",
   "metadata": {},
   "source": [
    "# Hypothesis 4"
   ]
  },
  {
   "cell_type": "markdown",
   "metadata": {},
   "source": [
    "## Look at how age varies with class and sex"
   ]
  },
  {
   "cell_type": "code",
   "execution_count": 21,
   "metadata": {
    "collapsed": false,
    "scrolled": true
   },
   "outputs": [
    {
     "data": {
      "image/png": "[encoded data removed]",
      "text/plain": [
       "<matplotlib.figure.Figure at 0xe5e5e10>"
      ]
     },
     "metadata": {},
     "output_type": "display_data"
    }
   ],
   "source": [
    "# Exploratory plotting\n",
    "groups = clean_age_df.groupby(['Sex','Survived','Pclass']).agg([np.mean,lambda x: np.std(x, ddof=1)])\n",
    "groups2 = clean_age_df.groupby(['Sex','Pclass']).agg([np.mean,lambda x: np.std(x, ddof=1)])\n",
    "\n",
    "#print groups['Age']\n",
    "#print groups2['Age']\n",
    "# Plot\n",
    "fig, ax = plt.subplots(2,sharey=True,sharex=True)\n",
    "\n",
    "markers =[ 'o','v']\n",
    "for i in [0,1]:\n",
    "    count = 0\n",
    "    for j in ['male','female']:\n",
    "        if i ==0:\n",
    "            l = 'Fatalities'\n",
    "        else:\n",
    "            l = 'Survivors'\n",
    "        ax[count].errorbar([0+i*0.05,1+i*0.05,2+i*0.05],groups['Age']['mean'][j][i],yerr=groups['Age']['<lambda>'][j][i].tolist(),linestyle='',marker=\"o\",label=l)\n",
    "        ax[count].text(1.8,53,j[:1].upper()+j[1:]+\"s\")\n",
    "        count += 1\n",
    "\n",
    "count = 0\n",
    "for i in ['male','female']:\n",
    "    ax[count].errorbar([0-0.05,1-0.05,2-0.05],groups2['Age']['mean'][i],yerr=groups2['Age']['<lambda>'][i].tolist(),linestyle='',marker=\"o\",label=\"Overall\")\n",
    "    count += 1\n",
    "\n",
    "x_axis=[\"First Class\",\"Second Class\",\"Third Class\"]\n",
    "plt.xticks(range(3),x_axis)\n",
    "plt.xlim([-0.1,2.10])\n",
    "plt.ylim([0,61])\n",
    "plt.xlabel(\"Passenger Class\")\n",
    "plt.ylabel(\"Mean Age of Passengers (years)\")\n",
    "ax[1].yaxis.set_label_coords(-.08, 1.05)\n",
    "plt.legend(bbox_to_anchor=(0., 1.02, 1., .102), loc=3,\n",
    "           ncol=3, mode=\"expand\", borderaxespad=0.)\n",
    "\n",
    "plt.show()"
   ]
  },
  {
   "cell_type": "markdown",
   "metadata": {},
   "source": [
    "## Now get ready for more complex analysis..."
   ]
  },
  {
   "cell_type": "code",
   "execution_count": 22,
   "metadata": {
    "collapsed": false
   },
   "outputs": [],
   "source": [
    "# Create a dummy variable for the sex variable\n",
    "#dummy_ranks_class = pd.get_dummies(clean_age_df['Pclass'],prefix='Pclass')\n",
    "#dummy_ranks_class = dummy_ranks_class.astype(int)\n",
    "#print dummy_ranks_class.head()\n",
    "\n",
    "# Add the intercept to the starting clean df\n",
    "clean_age_df['Intercept'] = 1.0\n",
    "#print clean_age_df.head()\n",
    "\n",
    "# Create new data set that joins the dummy variable to the relevant variables for the analysis and also sex (just in case)\n",
    "cols_to_keep2 = ['Survived','Age','Intercept','Pclass']\n",
    "#ageclass_data = clean_age_df[cols_to_keep2].join(dummy_ranks_class.ix[:,'Pclass_2':])\n",
    "#print ageclass_data.head()\n",
    "\n",
    "ageclasssex_data = clean_age_df[cols_to_keep2].join(dummy_ranks_sex.ix[:,'Sex_male':])\n",
    "#print ageclasssex_data.head()"
   ]
  },
  {
   "cell_type": "code",
   "execution_count": 23,
   "metadata": {
    "collapsed": false
   },
   "outputs": [
    {
     "name": "stdout",
     "output_type": "stream",
     "text": [
      "Optimization terminated successfully.\n",
      "         Current function value: 0.434771\n",
      "         Iterations 8\n",
      "\n",
      " Full model\n",
      "                           Logit Regression Results                           \n",
      "==============================================================================\n",
      "Dep. Variable:               Survived   No. Observations:                  714\n",
      "Model:                          Logit   Df Residuals:                      706\n",
      "Method:                           MLE   Df Model:                            7\n",
      "Date:                Sat, 29 Oct 2016   Pseudo R-squ.:                  0.3563\n",
      "Time:                        15:06:51   Log-Likelihood:                -310.43\n",
      "converged:                       True   LL-Null:                       -482.26\n",
      "                                        LLR p-value:                 2.799e-70\n",
      "=======================================================================================\n",
      "                          coef    std err          z      P>|z|      [95.0% Conf. Int.]\n",
      "---------------------------------------------------------------------------------------\n",
      "Intercept               5.5897      2.211      2.529      0.011         1.257     9.922\n",
      "Age                     0.0274      0.067      0.410      0.682        -0.103     0.158\n",
      "Sex_male               -3.9937      2.372     -1.683      0.092        -8.643     0.656\n",
      "Pclass                 -1.6801      0.782     -2.149      0.032        -3.212    -0.148\n",
      "Age:Pclass             -0.0190      0.024     -0.775      0.438        -0.067     0.029\n",
      "Age:Sex_male           -0.0549      0.070     -0.780      0.435        -0.193     0.083\n",
      "Sex_male:Pclass         0.9712      0.860      1.129      0.259        -0.714     2.657\n",
      "Age:Sex_male:Pclass     0.0093      0.027      0.346      0.730        -0.043     0.062\n",
      "=======================================================================================\n"
     ]
    }
   ],
   "source": [
    "# Run a full logistic regression model including the interaction between age, sex and class\n",
    "full_ageclasssex = logit(formula='Survived~Age+Sex_male+Pclass+Age*Pclass+Age*Sex_male+Sex_male*Pclass+Age*Sex_male*Pclass',data=ageclasssex_data).fit()\n",
    "#full_ageclasssex = logit(formula='Survived~Age+Sex_male+Pclass_2+Pclass_3+Age*Pclass_2+Age*Pclass_3+Age*Sex_male+Sex_male*Pclass_2+Sex_male*Pclass_3+Age*Sex_male*Pclass_2+Age*Sex_male*Pclass_3',data=ageclasssex_data).fit()\n",
    "print '\\n Full model'\n",
    "print full_ageclasssex.summary()\n",
    "\n",
    "# output odds ratios for this full model\n",
    "# print np.exp(full_ageclasssex.params)\n",
    "\n",
    "#Print some diagnostic plots to assess model fit\n",
    "if False:\n",
    "    nobs_ans = result_ans.nobs\n",
    "    y_asc = ageclasssex_data['Survived']/ageclasssex_data['Survived'].mean()\n",
    "    yhat_asc = result_ans.mu\n",
    "    fig_asc, ax_asc = plt.subplots()\n",
    "    ax_asc.scatter(yhat_asc, y_asc)\n",
    "    line_fit_asc = sm.OLS(y_asc, sm.add_constant(yhat_asc, prepend=True)).fit()\n",
    "    abline_plot(model_results=line_fit_asc,ax=ax_asc)\n",
    "    ax_asc.set_title('Model Fit Plot')\n",
    "    ax_asc.set_ylabel('Observed values')\n",
    "    ax_asc.set_xlabel('Fitted values')"
   ]
  },
  {
   "cell_type": "code",
   "execution_count": 24,
   "metadata": {
    "collapsed": false
   },
   "outputs": [
    {
     "name": "stdout",
     "output_type": "stream",
     "text": [
      "Optimization terminated successfully.\n",
      "         Current function value: 0.434856\n",
      "         Iterations 7\n",
      "\n",
      " Reduced model 1\n",
      "                           Logit Regression Results                           \n",
      "==============================================================================\n",
      "Dep. Variable:               Survived   No. Observations:                  714\n",
      "Model:                          Logit   Df Residuals:                      707\n",
      "Method:                           MLE   Df Model:                            6\n",
      "Date:                Sat, 29 Oct 2016   Pseudo R-squ.:                  0.3562\n",
      "Time:                        15:06:51   Log-Likelihood:                -310.49\n",
      "converged:                       True   LL-Null:                       -482.26\n",
      "                                        LLR p-value:                 3.756e-71\n",
      "===================================================================================\n",
      "                      coef    std err          z      P>|z|      [95.0% Conf. Int.]\n",
      "-----------------------------------------------------------------------------------\n",
      "Intercept           6.2099      1.359      4.571      0.000         3.547     8.873\n",
      "Age                 0.0069      0.030      0.228      0.819        -0.052     0.066\n",
      "Sex_male           -4.7092      1.236     -3.811      0.000        -7.131    -2.287\n",
      "Pclass             -1.9058      0.452     -4.218      0.000        -2.791    -1.020\n",
      "Age:Pclass         -0.0113      0.010     -1.123      0.261        -0.031     0.008\n",
      "Age:Sex_male       -0.0315      0.019     -1.674      0.094        -0.068     0.005\n",
      "Sex_male:Pclass     1.2430      0.376      3.308      0.001         0.507     1.979\n",
      "===================================================================================\n",
      "Optimization terminated successfully.\n",
      "         Current function value: 0.435738\n",
      "         Iterations 7\n",
      "\n",
      " Reduced model 2\n",
      "                           Logit Regression Results                           \n",
      "==============================================================================\n",
      "Dep. Variable:               Survived   No. Observations:                  714\n",
      "Model:                          Logit   Df Residuals:                      708\n",
      "Method:                           MLE   Df Model:                            5\n",
      "Date:                Sat, 29 Oct 2016   Pseudo R-squ.:                  0.3549\n",
      "Time:                        15:06:51   Log-Likelihood:                -311.12\n",
      "converged:                       True   LL-Null:                       -482.26\n",
      "                                        LLR p-value:                 8.029e-72\n",
      "===================================================================================\n",
      "                      coef    std err          z      P>|z|      [95.0% Conf. Int.]\n",
      "-----------------------------------------------------------------------------------\n",
      "Intercept           7.1727      1.096      6.545      0.000         5.025     9.321\n",
      "Age                -0.0233      0.014     -1.701      0.089        -0.050     0.004\n",
      "Sex_male           -4.9940      1.228     -4.068      0.000        -7.400    -2.588\n",
      "Pclass             -2.2549      0.339     -6.660      0.000        -2.919    -1.591\n",
      "Age:Sex_male       -0.0224      0.017     -1.330      0.183        -0.055     0.011\n",
      "Sex_male:Pclass     1.2664      0.376      3.364      0.001         0.529     2.004\n",
      "===================================================================================\n",
      "Optimization terminated successfully.\n",
      "         Current function value: 0.436965\n",
      "         Iterations 7\n",
      "\n",
      " Reduced model 3\n",
      "                           Logit Regression Results                           \n",
      "==============================================================================\n",
      "Dep. Variable:               Survived   No. Observations:                  714\n",
      "Model:                          Logit   Df Residuals:                      709\n",
      "Method:                           MLE   Df Model:                            4\n",
      "Date:                Sat, 29 Oct 2016   Pseudo R-squ.:                  0.3531\n",
      "Time:                        15:06:51   Log-Likelihood:                -311.99\n",
      "converged:                       True   LL-Null:                       -482.26\n",
      "                                        LLR p-value:                 1.943e-72\n",
      "===================================================================================\n",
      "                      coef    std err          z      P>|z|      [95.0% Conf. Int.]\n",
      "-----------------------------------------------------------------------------------\n",
      "Intercept           7.9644      0.969      8.218      0.000         6.065     9.864\n",
      "Age                -0.0384      0.008     -4.859      0.000        -0.054    -0.023\n",
      "Sex_male           -6.1155      0.929     -6.585      0.000        -7.936    -4.295\n",
      "Pclass             -2.4102      0.329     -7.331      0.000        -3.055    -1.766\n",
      "Sex_male:Pclass     1.4796      0.348      4.246      0.000         0.797     2.163\n",
      "===================================================================================\n"
     ]
    }
   ],
   "source": [
    "# Reduced model without 3-way interaction terms\n",
    "red_mod1 = logit(formula='Survived~Age+Sex_male+Pclass+Age*Pclass+Age*Sex_male+Sex_male*Pclass',data=ageclasssex_data).fit()\n",
    "if True:\n",
    "    print '\\n Reduced model 1'\n",
    "    print red_mod1.summary()\n",
    "\n",
    "# Start reducing 2-way interaction terms\n",
    "red_mod2 = logit(formula='Survived~Age+Sex_male+Pclass+Age*Sex_male+Sex_male*Pclass',data=ageclasssex_data).fit()\n",
    "if True:\n",
    "    print '\\n Reduced model 2'\n",
    "    print red_mod2.summary()\n",
    "\n",
    "# Keep on reducing\n",
    "red_mod3 = logit(formula='Survived~Age+Sex_male+Pclass+Sex_male*Pclass',data=ageclasssex_data).fit()\n",
    "if True:\n",
    "    print '\\n Reduced model 3'\n",
    "    print red_mod3.summary()\n"
   ]
  },
  {
   "cell_type": "markdown",
   "metadata": {},
   "source": [
    "There ais a potentially intersting interaction here... Notably:\n",
    "- between passenger sex and cabin class"
   ]
  },
  {
   "cell_type": "markdown",
   "metadata": {},
   "source": [
    "### Use a plot to understand what is going on with passengers in 2nd class"
   ]
  },
  {
   "cell_type": "code",
   "execution_count": 79,
   "metadata": {
    "collapsed": false
   },
   "outputs": [
    {
     "name": "stdout",
     "output_type": "stream",
     "text": [
      "   Survived   Age  Intercept  Pclass  Sex_male\n",
      "0         0  22.0        1.0       3         1\n",
      "1         1  38.0        1.0       1         0\n",
      "2         1  26.0        1.0       3         0\n",
      "3         1  35.0        1.0       1         0\n",
      "4         0  35.0        1.0       3         1\n"
     ]
    },
    {
     "data": {
      "image/png": "[encoded data removed]",
      "text/plain": [
       "<matplotlib.figure.Figure at 0xeae8b00>"
      ]
     },
     "metadata": {},
     "output_type": "display_data"
    }
   ],
   "source": [
    "# make a plot showing the two-way interaction between sex and cabin class\n",
    "color = [\"red\",\"blue\",\"green\"]\n",
    "colors = [\"blue\",\"red\",\"green\",\"blue\",\"red\",\"green\"]\n",
    "\n",
    "print ageclasssex_data.head()\n",
    "mu_surv = ageclasssex_data.groupby(['Pclass',\"Sex_male\"]).agg([np.mean,lambda x: np.std(x, ddof=1)])\n",
    "mu_surv2 = ageclasssex_data.groupby([\"Sex_male\",'Pclass']).agg([np.mean,lambda x: np.std(x, ddof=1)])\n",
    "\n",
    "if False:\n",
    "    fig, ax = plt.subplots(3,sharex=True, sharey=True)\n",
    "    counter = 0\n",
    "    xs = [0,1]\n",
    "    for i in [1,2,3]:\n",
    "        for j in [0,1]:\n",
    "            if j == 0:\n",
    "                Sex = \"Female\"\n",
    "            else:\n",
    "                Sex = \"Male\"\n",
    "            ax[counter].scatter(xs,mu_surv[\"Survived\"]['mean'][i],c=colors[counter],label = \"%s passengers from %f class\"%(Sex,i))\n",
    "        ax[counter].text(.8,.8,\"%i class\"%i)\n",
    "        counter += 1\n",
    "    plt.ylim([-0.05,1.05])\n",
    "    plt.xlim([-0.05,1.05])\n",
    "    \n",
    "if False:\n",
    "    fig = plt.figure() \n",
    "    colors = [\"blue\",\"red\",\"green\",\"blue\",\"red\",\"green\"]\n",
    "    markers = [\"o\",\"o\",\"o\",\"D\",\"D\",\"D\"]\n",
    "    xs = [.95,1.95,2.95,1.05,2.05,3.05]\n",
    "    plt.scatter(xs,mu_surv2[\"Survived\"]['mean'].tolist(),c=colors,linestyle=\"\")\n",
    "    plt.ylim([-0.05,1.05])\n",
    "    plt.xlim([-0.05,2.05])\n",
    "if False:\n",
    "    s_c = ageclasssex_data[ageclasssex_data.Pclass_2 == 1]\n",
    "    ages = list(range(73))\n",
    "    preds = []\n",
    "    for i in ages:\n",
    "        preds.append(1/(1+np.exp(-(5.1973 -0.0322*i -0.3969 - 0.0461 * i))))\n",
    "    # make a plot\n",
    "    plt.scatter(s_c['Age'],s_c['Survived'],label = \"Observations\")\n",
    "    plt.plot(ages,preds, c='red', label=\"Predicted Outcome\")\n",
    "    plt.xlim([-1,73])\n",
    "    plt.ylim([-0.05,1.05])\n",
    "    plt.xlabel(\"Passenger Age (years)\")\n",
    "    plt.ylabel(\"Probability of Survival\", color='red')\n",
    "    plt.legend(loc = 'center left')"
   ]
  },
  {
   "cell_type": "markdown",
   "metadata": {},
   "source": [
    "### Use a plot to understand what is going on with passengers in 3rd class"
   ]
  },
  {
   "cell_type": "code",
   "execution_count": 231,
   "metadata": {
    "collapsed": false
   },
   "outputs": [
    {
     "name": "stdout",
     "output_type": "stream",
     "text": [
      "Pclass_3  Sex_male\n",
      "0         0           0.943396\n",
      "          1           0.275000\n",
      "1         0           0.460784\n",
      "          1           0.150198\n",
      "Name: Survived, dtype: float64 Pclass_3  Sex_male\n",
      "0         0           0.231814\n",
      "          1           0.447635\n",
      "1         0           0.500921\n",
      "          1           0.357973\n",
      "Name: Survived, dtype: float64\n"
     ]
    },
    {
     "data": {
      "text/plain": [
       "([<matplotlib.axis.XTick at 0x1713d240>,\n",
       "  <matplotlib.axis.XTick at 0x177e0048>],\n",
       " <a list of 2 Text xticklabel objects>)"
      ]
     },
     "execution_count": 231,
     "metadata": {},
     "output_type": "execute_result"
    },
    {
     "data": {
      "image/png": "[encoded data removed]",
      "text/plain": [
       "<matplotlib.figure.Figure at 0xc0eb400>"
      ]
     },
     "metadata": {},
     "output_type": "display_data"
    }
   ],
   "source": [
    "mu3 = ageclasssex_data.groupby(['Pclass_3','Sex_male']).mean()\n",
    "std3 = ageclasssex_data.groupby(['Pclass_3','Sex_male']).std(ddof=1)\n",
    "print mu3['Survived'], std3['Survived']\n",
    "plt.errorbar([0,1],mu3['Survived'][0][:],yerr=std3['Survived'][0][:],linestyle='',marker=\"o\")\n",
    "plt.xlim([-0.05,1.05])\n",
    "plt.ylabel(\"Probability of Survival\")\n",
    "labels=[\"Females\",\"Males\"]\n",
    "plt.xticks([0,1],labels,rotation=\"vertical\")"
   ]
  },
  {
   "cell_type": "markdown",
   "metadata": {},
   "source": [
    "## Probability of survival based on the point of embarkation..."
   ]
  },
  {
   "cell_type": "markdown",
   "metadata": {},
   "source": [
    "### First define a function to compute conditional probabilities."
   ]
  },
  {
   "cell_type": "code",
   "execution_count": 105,
   "metadata": {
    "collapsed": false
   },
   "outputs": [
    {
     "name": "stdout",
     "output_type": "stream",
     "text": [
      "\n"
     ]
    }
   ],
   "source": [
    "# This function will compute the conditional probability of an event A occurring given that an event B has occurred.\n",
    "\n",
    "def bayes_prob(category1,cond1,category2,cond2,df=titanic_df):\n",
    "    # Compute probability that category 1 has condition 1 (this is more so for error checking and is not included in the end calculation)\n",
    "    prob_cat1_cond1 = df[df[category1] == cond1].count()[0] / float(df.count()[0])\n",
    "    \n",
    "    # Compute probability that category 2 has condition 2\n",
    "    prob_cat2_cond2 = df[df[category2] == cond2].count()[0] / float(df.count()[0])\n",
    "    \n",
    "    # Compute the probability of category 1 having condition 1 and category 2 having condition 2\n",
    "    prob_cat1cond1_cat2cond2 = df[(df[category1]==cond1) & (df[category2]==cond2)].count()[0] / float(df.count()[0])\n",
    "    \n",
    "    # Compute the conditional probability of P(cond1 | cond2) = P(cond1 & cond 2) / P(cond 2)\n",
    "    return prob_cat1cond1_cat2cond2 / prob_cat2_cond2"
   ]
  },
  {
   "cell_type": "code",
   "execution_count": 108,
   "metadata": {
    "collapsed": false
   },
   "outputs": [
    {
     "name": "stdout",
     "output_type": "stream",
     "text": [
      "The probability of someone from first class surviving the ill-fated voyage is:  0.62962962963\n",
      "The probability of someone from second class surviving the ill-fated voyage is:  0.472826086957\n",
      "The probability of someone from third class surviving the ill-fated voyage is:  0.242362525458\n"
     ]
    }
   ],
   "source": [
    "print 'The probability of someone from first class surviving the ill-fated voyage is: ',bayes_prob('Survived',1,'Pclass',1)\n",
    "print 'The probability of someone from second class surviving the ill-fated voyage is: ',bayes_prob('Survived',1,'Pclass',2)\n",
    "print 'The probability of someone from third class surviving the ill-fated voyage is: ',bayes_prob('Survived',1,'Pclass',3)"
   ]
  },
  {
   "cell_type": "markdown",
   "metadata": {},
   "source": [
    "## Look at the distribution of class rooms based on where people got on."
   ]
  },
  {
   "cell_type": "code",
   "execution_count": 82,
   "metadata": {
    "collapsed": false
   },
   "outputs": [
    {
     "name": "stdout",
     "output_type": "stream",
     "text": [
      "The probability that a passenger in a first class room was from Queenstown is:  0.146639511202\n",
      "The probability that a passenger in a first class room was from Southampton is:  0.718940936864\n",
      "The probability that a passenger in a first class room was from Cherbourg is:  0.134419551935\n",
      "0.990740740741\n"
     ]
    }
   ],
   "source": [
    "print 'The probability that a passenger in a first class room was from Queenstown is: ', bayes_prob('Embarked','Q','Pclass',3)\n",
    "print 'The probability that a passenger in a first class room was from Southampton is: ', bayes_prob('Embarked','S','Pclass',3)\n",
    "print 'The probability that a passenger in a first class room was from Cherbourg is: ', bayes_prob('Embarked','C','Pclass',3)\n",
    "print bayes_prob('Embarked','C','Pclass',1) + bayes_prob('Embarked','S','Pclass',1) + bayes_prob('Embarked','Q','Pclass',1)"
   ]
  },
  {
   "cell_type": "markdown",
   "metadata": {},
   "source": [
    "## Look at age distribution and point of embarkation"
   ]
  },
  {
   "cell_type": "code",
   "execution_count": 83,
   "metadata": {
    "collapsed": false
   },
   "outputs": [
    {
     "data": {
      "image/png": "[encoded data removed]",
      "text/plain": [
       "<matplotlib.figure.Figure at 0xaa6cf60>"
      ]
     },
     "metadata": {},
     "output_type": "display_data"
    },
    {
     "data": {
      "image/png": "[encoded data removed]",
      "text/plain": [
       "<matplotlib.figure.Figure at 0xc897d30>"
      ]
     },
     "metadata": {},
     "output_type": "display_data"
    }
   ],
   "source": [
    "cherbourg = titanic_df[titanic_df['Embarked']=='C'].copy()\n",
    "cherbourg_ages = cherbourg.dropna()\n",
    "queenstown = titanic_df[titanic_df['Embarked']=='Q'].copy()\n",
    "queenstown_ages = queenstown.dropna()\n",
    "southampton = titanic_df[titanic_df['Embarked']=='S'].copy()\n",
    "southampton_ages = southampton.dropna()\n",
    "\n",
    "mu_cher = cherbourg_ages['Age'].mean()\n",
    "mu_queen = queenstown_ages['Age'].mean()\n",
    "mu_south = southampton_ages['Age'].mean()\n",
    "\n",
    "embark_classes = titanic_df.groupby(['Embarked','Pclass'])\n",
    "#print embark_classes.head()\n",
    "plt.hist(southampton_ages['Age'],bins=30,label='Southampton',color='r',alpha=.75)\n",
    "plt.hist(cherbourg_ages['Age'],bins=30,label='Cherbourg',color='b',alpha=.75)\n",
    "plt.hist(queenstown_ages['Age'],bins=30,label='Queenstown',color='g')\n",
    "plt.axvline(mu_cher, color='r', linestyle='dashed', linewidth=2)\n",
    "plt.axvline(mu_queen, color='b', linestyle='dashed', linewidth=2)\n",
    "plt.axvline(mu_south, color='g', linestyle='dashed', linewidth=2)\n",
    "plt.legend(loc='upper right')\n",
    "plt.ylabel('Number of Instances')\n",
    "plt.xlabel('Passenger Age (years)')\n",
    "plt.title('Distribution of passenger ages aboard the Titanic based on their port of embarkation.')\n",
    "plt.ylim([0,11])\n",
    "plt.show()\n",
    "\n",
    "plt.hist(southampton['Pclass'],bins=3,label='Southampton',color='r')\n",
    "plt.hist(cherbourg['Pclass'],bins=3,label='Cherbourg',color='b')\n",
    "plt.hist(queenstown['Pclass'],bins=3,label='Queenstown',color='g')\n",
    "plt.legend(loc='upper left')\n",
    "plt.ylabel('Number of Instances')\n",
    "plt.xlabel('Passenger Age (years)')\n",
    "plt.title('Distribution of passenger ages aboard the Titanic based on their port of embarkation.')\n",
    "#plt.ylim([0,11])\n",
    "plt.show()\n",
    "\n"
   ]
  },
  {
   "cell_type": "markdown",
   "metadata": {
    "collapsed": true
   },
   "source": [
    "## Effect of port of embarkation on survival"
   ]
  },
  {
   "cell_type": "code",
   "execution_count": 88,
   "metadata": {
    "collapsed": false
   },
   "outputs": [
    {
     "name": "stdout",
     "output_type": "stream",
     "text": [
      "The base survival rate for passengers on the ship is:  0.383838383838\n",
      "The expected number of survivors from Cherbourg, Southampton, and Queenstown, respectively, are:  64.4848484848 247.191919192 29.5555555556\n",
      "The observed number of survivors from Cherbourg, Southampton, and Queenstown, respectively, are:  93 217 30\n",
      "The test statistic is:  12.4668369309 and the critical value for 2 degrees of freedom is: 2.44775.\n"
     ]
    }
   ],
   "source": [
    "embarked = titanic_df['Embarked'].dropna()\n",
    "\n",
    "# will conduct a g-test to determine if there are differences in the survival \n",
    "# rate for passengers who embarked at the different ports\n",
    "\n",
    "# start by getting a base survival rate\n",
    "total_survived = titanic_df['Survived'].sum()\n",
    "prop_survived = total_survived / float(titanic_df['Survived'].count())\n",
    "\n",
    "print 'The base survival rate for passengers on the ship is: ',prop_survived\n",
    "\n",
    "# compute expected survival numbers for passengers from each port\n",
    "ex_cher = len(cherbourg)*prop_survived\n",
    "ex_south = len(southampton)*prop_survived\n",
    "ex_queen = len(queenstown)*prop_survived\n",
    "print 'The expected number of survivors from Cherbourg, Southampton, and Queenstown, respectively, are: ',\\\n",
    "ex_cher, ex_south, ex_queen\n",
    "\n",
    "# get the observed survival\n",
    "obs_cher = cherbourg['Survived'].sum()\n",
    "obs_south = southampton['Survived'].sum()\n",
    "obs_queen = queenstown['Survived'].sum()\n",
    "\n",
    "print 'The observed number of survivors from Cherbourg, Southampton, and Queenstown, respectively, are: ',\\\n",
    "obs_cher, obs_south, obs_queen\n",
    "\n",
    "cher_ratio = obs_cher*math.log(obs_cher/ex_cher)\n",
    "south_ratio = obs_south*math.log(obs_south/ex_south)\n",
    "queen_ratio = obs_queen*math.log(obs_queen/ex_queen)\n",
    "g_embark_surv = 2*(cher_ratio+south_ratio+queen_ratio)\n",
    "print 'The test statistic is: ',g_embark_surv, 'and the critical value for 2 degrees of freedom is: 2.44775.'"
   ]
  },
  {
   "cell_type": "markdown",
   "metadata": {},
   "source": [
    "The null hypothesis for this test is that the expected number of fatalities for passengers from each of the points of embarktion equals the observed number of fatlities for passengers from each of the points of embarkation. The test statistic for the G-test exceeds the critical value, leading one to reject the null hypothesis and conclude that the expected number of fatalities differed from the observed number of fatalities for at least one of the points of embarkation."
   ]
  },
  {
   "cell_type": "code",
   "execution_count": null,
   "metadata": {
    "collapsed": true
   },
   "outputs": [],
   "source": []
  }
 ],
 "metadata": {
  "anaconda-cloud": {},
  "kernelspec": {
   "display_name": "Python [Root]",
   "language": "python",
   "name": "Python [Root]"
  },
  "language_info": {
   "codemirror_mode": {
    "name": "ipython",
    "version": 2
   },
   "file_extension": ".py",
   "mimetype": "text/x-python",
   "name": "python",
   "nbconvert_exporter": "python",
   "pygments_lexer": "ipython2",
   "version": "2.7.12"
  }
 },
 "nbformat": 4,
 "nbformat_minor": 0
}
